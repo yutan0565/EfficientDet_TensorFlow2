{
 "cells": [
  {
   "cell_type": "code",
   "execution_count": 2,
   "id": "689f122a",
   "metadata": {},
   "outputs": [
    {
     "data": {
      "text/plain": [
       "[PhysicalDevice(name='/physical_device:GPU:0', device_type='GPU')]"
      ]
     },
     "execution_count": 2,
     "metadata": {},
     "output_type": "execute_result"
    }
   ],
   "source": [
    "import tensorflow as tf \n",
    "\n",
    "tf.config.list_physical_devices('GPU')"
   ]
  },
  {
   "cell_type": "code",
   "execution_count": 2,
   "id": "b496f270",
   "metadata": {},
   "outputs": [],
   "source": [
    "import tensorflow as tf\n",
    "import cv2\n",
    "import numpy as np\n",
    "\n",
    "from configuration import Config\n",
    "from core.efficientdet import EfficientDet, PostProcessing\n",
    "from data.dataloader import DataLoader"
   ]
  },
  {
   "cell_type": "code",
   "execution_count": 1,
   "id": "b707efd1",
   "metadata": {},
   "outputs": [
    {
     "ename": "NameError",
     "evalue": "name 'tf' is not defined",
     "output_type": "error",
     "traceback": [
      "\u001b[0;31m---------------------------------------------------------------------------\u001b[0m",
      "\u001b[0;31mNameError\u001b[0m                                 Traceback (most recent call last)",
      "\u001b[0;32m/tmp/ipykernel_36764/4211817690.py\u001b[0m in \u001b[0;36m<module>\u001b[0;34m\u001b[0m\n\u001b[1;32m     44\u001b[0m \u001b[0;32mif\u001b[0m \u001b[0m__name__\u001b[0m \u001b[0;34m==\u001b[0m \u001b[0;34m'__main__'\u001b[0m\u001b[0;34m:\u001b[0m\u001b[0;34m\u001b[0m\u001b[0m\n\u001b[1;32m     45\u001b[0m     \u001b[0;31m# GPU settings\u001b[0m\u001b[0;34m\u001b[0m\u001b[0;34m\u001b[0m\u001b[0m\n\u001b[0;32m---> 46\u001b[0;31m     \u001b[0mgpus\u001b[0m \u001b[0;34m=\u001b[0m \u001b[0mtf\u001b[0m\u001b[0;34m.\u001b[0m\u001b[0mconfig\u001b[0m\u001b[0;34m.\u001b[0m\u001b[0mlist_physical_devices\u001b[0m\u001b[0;34m(\u001b[0m\u001b[0;34m\"GPU\"\u001b[0m\u001b[0;34m)\u001b[0m\u001b[0;34m\u001b[0m\u001b[0m\n\u001b[0m\u001b[1;32m     47\u001b[0m     \u001b[0;32mif\u001b[0m \u001b[0mgpus\u001b[0m\u001b[0;34m:\u001b[0m\u001b[0;34m\u001b[0m\u001b[0m\n\u001b[1;32m     48\u001b[0m         \u001b[0;32mfor\u001b[0m \u001b[0mgpu\u001b[0m \u001b[0;32min\u001b[0m \u001b[0mgpus\u001b[0m\u001b[0;34m:\u001b[0m\u001b[0;34m\u001b[0m\u001b[0m\n",
      "\u001b[0;31mNameError\u001b[0m: name 'tf' is not defined"
     ]
    }
   ],
   "source": [
    "# 원래 모델\n",
    "\n",
    "def idx2class():\n",
    "    return dict((v, k) for k, v in Config.pascal_voc_classes.items())\n",
    "\n",
    "\n",
    "def draw_boxes_on_image(image, boxes, scores, classes):\n",
    "    num_boxes = boxes.shape[0]\n",
    "    for i in range(num_boxes):\n",
    "        class_and_score = str(idx2class()[classes[i]]) + \": \" + str(scores[i])\n",
    "        cv2.rectangle(img=image, pt1=(boxes[i, 0], boxes[i, 1]), pt2=(boxes[i, 2], boxes[i, 3]), color=(255, 0, 0), thickness=2)\n",
    "        cv2.putText(img=image, text=class_and_score, org=(boxes[i, 0], boxes[i, 1] - 10), fontFace=cv2.FONT_HERSHEY_COMPLEX, fontScale=1.5, color=(0, 255, 255), thickness=2)\n",
    "    return image\n",
    "\n",
    "def load_model(path):  \n",
    "    interpreter = tf.lite.Interpreter(model_path = path)\n",
    "    interpreter.allocate_tensors()\n",
    "    return interpreter\n",
    "\n",
    "def test_single_picture(picture_dir, model):\n",
    "    image_array = cv2.imread(picture_dir)\n",
    "    image = DataLoader.image_preprocess(is_training=False, image_dir=picture_dir)\n",
    "    image = tf.expand_dims(input=image, axis=0)\n",
    "\n",
    "    outputs = model(image, training=True)\n",
    "    print(outputs)\n",
    "    post_process = PostProcessing()\n",
    "    boxes, scores, classes = post_process.testing_procedure(outputs, [image_array.shape[0], image_array.shape[1]])\n",
    "    print(\"-\"*50)\n",
    "    print(\"boxes\")\n",
    "    print(boxes)\n",
    "    print(\"-\" * 50)\n",
    "    print(\"scores\")\n",
    "    print(scores)\n",
    "    print(\"-\" * 50)\n",
    "    print(\"classes\")\n",
    "    print(classes)\n",
    "    print(\"-\" * 50)\n",
    "    image_with_boxes = draw_boxes_on_image(image_array, boxes.astype(np.int), scores, classes)\n",
    "    return image_with_boxes\n",
    "\n",
    "test_image_dir = \"./data/fire_smoke/test/JPEGImages/ck0kdhymna0b10721v4wntit8_jpeg.rf.a08e34d04fb672ce6cf8e94e810ec81d.jpg\"\n",
    "\n",
    "if __name__ == '__main__':\n",
    "    # GPU settings\n",
    "    gpus = tf.config.list_physical_devices(\"GPU\")\n",
    "    if gpus:\n",
    "        for gpu in gpus:\n",
    "            tf.config.experimental.set_memory_growth(gpu, True)\n",
    "\n",
    "    efficientdet = EfficientDet()\n",
    "    efficientdet.load_weights(filepath=Config.save_model_dir + \"saved_model\")\n",
    "\n",
    "    image = test_single_picture(picture_dir=test_image_dir, model=efficientdet)\n",
    "\n",
    "    cv2.namedWindow(\"detect result\", flags=cv2.WINDOW_NORMAL)\n",
    "    cv2.imshow(\"detect result\", image)\n",
    "    cv2.waitKey(0)"
   ]
  },
  {
   "cell_type": "code",
   "execution_count": null,
   "id": "eb21f5bd",
   "metadata": {},
   "outputs": [],
   "source": [
    "# tflite 평가 하기\n",
    "\n",
    "def idx2class():\n",
    "    return dict((v, k) for k, v in Config.pascal_voc_classes.items())\n",
    "\n",
    "\n",
    "def draw_boxes_on_image(image, boxes, scores, classes):\n",
    "    num_boxes = boxes.shape[0]\n",
    "    for i in range(num_boxes):\n",
    "        class_and_score = str(idx2class()[classes[i]]) + \": \" + str(scores[i])\n",
    "        cv2.rectangle(img=image, pt1=(boxes[i, 0], boxes[i, 1]), pt2=(boxes[i, 2], boxes[i, 3]), color=(255, 0, 0), thickness=2)\n",
    "        cv2.putText(img=image, text=class_and_score, org=(boxes[i, 0], boxes[i, 1] - 10), fontFace=cv2.FONT_HERSHEY_COMPLEX, fontScale=1.5, color=(0, 255, 255), thickness=2)\n",
    "    return image\n",
    "\n",
    "def load_model(path):  \n",
    "    interpreter = tf.lite.Interpreter(model_path = path)\n",
    "    interpreter.allocate_tensors()\n",
    "    return interpreter\n",
    "\n",
    "def test_single_picture(picture_dir, model):\n",
    "    image_array = cv2.imread(picture_dir)\n",
    "    image = DataLoader.image_preprocess(is_training=False, image_dir=picture_dir)\n",
    "    image = tf.expand_dims(input=image, axis=0)\n",
    "    \n",
    "    input_data = np.array(image, dtype = np.uint8)\n",
    "    input_details = model.get_input_details()[0]\n",
    "    output_details = model.get_output_details()[0]\n",
    "    model.set_tensor(input_details['index'], input_data)\n",
    "    model.invoke()\n",
    "    outputs= model.get_tensor(output_details['index'])\n",
    "    \n",
    "    print(outputs)\n",
    "    # 원래 outputs =  소수점 형태\n",
    "    # quantizaation model =  숫자 너무큼.. output_tensor shape 해결하기\n",
    "    \n",
    "    \n",
    "    \n",
    "    outputs = tf.constant(outputs)\n",
    "    \n",
    "    post_process = PostProcessing()\n",
    "    boxes, scores, classes = post_process.testing_procedure(outputs, [image_array.shape[0], image_array.shape[1]])\n",
    "    print(\"-\"*50)\n",
    "    print(\"boxes\")\n",
    "    print(boxes)\n",
    "    print(\"-\" * 50)\n",
    "    print(\"scores\")\n",
    "    print(scores)\n",
    "    print(\"-\" * 50)\n",
    "    print(\"classes\")\n",
    "    print(classes)\n",
    "    print(\"-\" * 50)\n",
    "    image_with_boxes = draw_boxes_on_image(image_array, boxes.astype(np.int), scores, classes)\n",
    "    return image_with_boxes\n",
    "\n",
    "test_image_dir = \"./test_pictures/ck0kfhu4n8q7f0701ixmonyig_jpeg.rf.a3cc5282520b3bac90718bdd5528bd76.jpg\"\n",
    "\n",
    "gpus = tf.config.list_physical_devices(\"GPU\")\n",
    "\n",
    "if gpus:\n",
    "    for gpu in gpus:\n",
    "        tf.config.experimental.set_memory_growth(gpu, True)\n",
    "\n",
    "model_path = \"C:/Users/yutan/Desktop/EfficientDet_TensorFlow2/tflite_model_quant.tflite\"\n",
    "efficientdet_lite = load_model(model_path)\n",
    "\n",
    "image = test_single_picture(picture_dir=test_image_dir, model=efficientdet_lite)\n",
    "\n",
    "cv2.namedWindow(\"detect result\", flags=cv2.WINDOW_NORMAL)\n",
    "cv2.imshow(\"detect result\", image)\n",
    "cv2.waitKey(0)"
   ]
  },
  {
   "cell_type": "code",
   "execution_count": null,
   "id": "5bc40eae",
   "metadata": {},
   "outputs": [],
   "source": [
    "!nvidia-smi"
   ]
  }
 ],
 "metadata": {
  "kernelspec": {
   "display_name": "Python 3 (ipykernel)",
   "language": "python",
   "name": "python3"
  },
  "language_info": {
   "codemirror_mode": {
    "name": "ipython",
    "version": 3
   },
   "file_extension": ".py",
   "mimetype": "text/x-python",
   "name": "python",
   "nbconvert_exporter": "python",
   "pygments_lexer": "ipython3",
   "version": "3.7.0"
  }
 },
 "nbformat": 4,
 "nbformat_minor": 5
}
