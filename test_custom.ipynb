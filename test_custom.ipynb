{
 "cells": [
  {
   "cell_type": "code",
   "execution_count": 1,
   "id": "689f122a",
   "metadata": {},
   "outputs": [
    {
     "data": {
      "text/plain": [
       "[PhysicalDevice(name='/physical_device:GPU:0', device_type='GPU')]"
      ]
     },
     "execution_count": 1,
     "metadata": {},
     "output_type": "execute_result"
    }
   ],
   "source": [
    "import tensorflow as tf \n",
    "\n",
    "tf.config.list_physical_devices('GPU')"
   ]
  },
  {
   "cell_type": "code",
   "execution_count": 2,
   "id": "b496f270",
   "metadata": {},
   "outputs": [],
   "source": [
    "import tensorflow as tf\n",
    "import cv2\n",
    "import numpy as np\n",
    "\n",
    "from configuration import Config\n",
    "from core.efficientdet import EfficientDet, PostProcessing\n",
    "from data.dataloader import DataLoader"
   ]
  },
  {
   "cell_type": "code",
   "execution_count": null,
   "id": "b707efd1",
   "metadata": {},
   "outputs": [
    {
     "name": "stderr",
     "output_type": "stream",
     "text": [
      "2021-10-25 19:25:00.954803: I tensorflow/core/platform/cpu_feature_guard.cc:142] This TensorFlow binary is optimized with oneAPI Deep Neural Network Library (oneDNN) to use the following CPU instructions in performance-critical operations:  AVX2 AVX512F FMA\n",
      "To enable them in other operations, rebuild TensorFlow with the appropriate compiler flags.\n",
      "2021-10-25 19:25:01.536222: I tensorflow/core/common_runtime/gpu/gpu_device.cc:1510] Created device /job:localhost/replica:0/task:0/device:GPU:0 with 22854 MB memory:  -> device: 0, name: NVIDIA TITAN RTX, pci bus id: 0000:3b:00.0, compute capability: 7.5\n",
      "2021-10-25 19:25:02.409959: I tensorflow/stream_executor/cuda/cuda_dnn.cc:369] Loaded cuDNN version 8201\n",
      "2021-10-25 19:25:03.029730: I tensorflow/core/platform/default/subprocess.cc:304] Start cannot spawn child process: No such file or directory\n"
     ]
    }
   ],
   "source": [
    "# 원래 모델\n",
    "\n",
    "def idx2class():\n",
    "    return dict((v, k) for k, v in Config.pascal_voc_classes.items())\n",
    "\n",
    "\n",
    "def draw_boxes_on_image(image, boxes, scores, classes):\n",
    "    num_boxes = boxes.shape[0]\n",
    "    for i in range(num_boxes):\n",
    "        class_and_score = str(idx2class()[classes[i]]) + \": \" + str(scores[i])\n",
    "        cv2.rectangle(img=image, pt1=(boxes[i, 0], boxes[i, 1]), pt2=(boxes[i, 2], boxes[i, 3]), color=(255, 0, 0), thickness=2)\n",
    "        cv2.putText(img=image, text=class_and_score, org=(boxes[i, 0], boxes[i, 1] - 10), fontFace=cv2.FONT_HERSHEY_COMPLEX, fontScale=1.5, color=(0, 255, 255), thickness=2)\n",
    "    return image\n",
    "\n",
    "def load_model(path):  \n",
    "    interpreter = tf.lite.Interpreter(model_path = path)\n",
    "    interpreter.allocate_tensors()\n",
    "    return interpreter\n",
    "\n",
    "def test_single_picture(picture_dir, model):\n",
    "    image_array = cv2.imread(picture_dir)\n",
    "    image = DataLoader.image_preprocess(is_training=False, image_dir=picture_dir)\n",
    "    image = tf.expand_dims(input=image, axis=0)\n",
    "\n",
    "    outputs = model(image, training=True)\n",
    "    print(outputs)\n",
    "    post_process = PostProcessing()\n",
    "    boxes, scores, classes = post_process.testing_procedure(outputs, [image_array.shape[0], image_array.shape[1]])\n",
    "    print(\"-\"*50)\n",
    "    print(\"boxes\")\n",
    "    print(boxes)\n",
    "    print(\"-\" * 50)\n",
    "    print(\"scores\")\n",
    "    print(scores)\n",
    "    print(\"-\" * 50)\n",
    "    print(\"classes\")\n",
    "    print(classes)\n",
    "    print(\"-\" * 50)\n",
    "    image_with_boxes = draw_boxes_on_image(image_array, boxes.astype(np.int), scores, classes)\n",
    "    return image_with_boxes\n",
    "\n",
    "test_image_dir = \"./data/fire_smoke/test/JPEGImages/ck0kdhymna0b10721v4wntit8_jpeg.rf.a08e34d04fb672ce6cf8e94e810ec81d.jpg\"\n",
    "\n",
    "if __name__ == '__main__':\n",
    "    # GPU settings\n",
    "    gpus = tf.config.list_physical_devices(\"GPU\")\n",
    "    if gpus:\n",
    "        for gpu in gpus:\n",
    "            tf.config.experimental.set_memory_growth(gpu, True)\n",
    "    load_weights_from_epoch = Config.load_weights_from_epoch_quan\n",
    "    efficientdet = EfficientDet()\n",
    "    #efficientdet.load_weights(filepath=Config.save_model_dir + \"saved_model\")\n",
    " \n",
    "    efficientdet.load_weights(filepath=Config.save_model_dir+\"epoch-{}\".format(load_weights_from_epoch))\n",
    "\n",
    "    image = test_single_picture(picture_dir=test_image_dir, model=efficientdet)\n",
    "\n",
    "    cv2.namedWindow(\"detect result\", flags=cv2.WINDOW_NORMAL)\n",
    "    cv2.imshow(\"detect result\", image)\n",
    "    cv2.waitKey(0)"
   ]
  },
  {
   "cell_type": "code",
   "execution_count": null,
   "id": "eb21f5bd",
   "metadata": {},
   "outputs": [],
   "source": [
    "# tflite 평가 하기\n",
    "\n",
    "def idx2class():\n",
    "    return dict((v, k) for k, v in Config.pascal_voc_classes.items())\n",
    "\n",
    "\n",
    "def draw_boxes_on_image(image, boxes, scores, classes):\n",
    "    num_boxes = boxes.shape[0]\n",
    "    for i in range(num_boxes):\n",
    "        class_and_score = str(idx2class()[classes[i]]) + \": \" + str(scores[i])\n",
    "        cv2.rectangle(img=image, pt1=(boxes[i, 0], boxes[i, 1]), pt2=(boxes[i, 2], boxes[i, 3]), color=(255, 0, 0), thickness=2)\n",
    "        cv2.putText(img=image, text=class_and_score, org=(boxes[i, 0], boxes[i, 1] - 10), fontFace=cv2.FONT_HERSHEY_COMPLEX, fontScale=1.5, color=(0, 255, 255), thickness=2)\n",
    "    return image\n",
    "\n",
    "def load_model(path):  \n",
    "    interpreter = tf.lite.Interpreter(model_path = path)\n",
    "    interpreter.allocate_tensors()\n",
    "    return interpreter\n",
    "\n",
    "def test_single_picture(picture_dir, model):\n",
    "    image_array = cv2.imread(picture_dir)\n",
    "    image = DataLoader.image_preprocess(is_training=False, image_dir=picture_dir)\n",
    "    image = tf.expand_dims(input=image, axis=0)\n",
    "    \n",
    "    input_data = np.array(image, dtype = np.uint8)\n",
    "    input_details = model.get_input_details()[0]\n",
    "    output_details = model.get_output_details()[0]\n",
    "    model.set_tensor(input_details['index'], input_data)\n",
    "    model.invoke()\n",
    "    outputs= model.get_tensor(output_details['index'])\n",
    "    \n",
    "    print(outputs)\n",
    "    # 원래 outputs =  소수점 형태\n",
    "    # quantizaation model =  숫자 너무큼.. output_tensor shape 해결하기\n",
    "    \n",
    "    \n",
    "    \n",
    "    outputs = tf.constant(outputs)\n",
    "    \n",
    "    post_process = PostProcessing()\n",
    "    boxes, scores, classes = post_process.testing_procedure(outputs, [image_array.shape[0], image_array.shape[1]])\n",
    "    print(\"-\"*50)\n",
    "    print(\"boxes\")\n",
    "    print(boxes)\n",
    "    print(\"-\" * 50)\n",
    "    print(\"scores\")\n",
    "    print(scores)\n",
    "    print(\"-\" * 50)\n",
    "    print(\"classes\")\n",
    "    print(classes)\n",
    "    print(\"-\" * 50)\n",
    "    image_with_boxes = draw_boxes_on_image(image_array, boxes.astype(np.int), scores, classes)\n",
    "    return image_with_boxes\n",
    "\n",
    "test_image_dir = \"./test_pictures/ck0kfhu4n8q7f0701ixmonyig_jpeg.rf.a3cc5282520b3bac90718bdd5528bd76.jpg\"\n",
    "\n",
    "gpus = tf.config.list_physical_devices(\"GPU\")\n",
    "\n",
    "if gpus:\n",
    "    for gpu in gpus:\n",
    "        tf.config.experimental.set_memory_growth(gpu, True)\n",
    "\n",
    "model_path = \"C:/Users/yutan/Desktop/EfficientDet_TensorFlow2/tflite_model_quant.tflite\"\n",
    "efficientdet_lite = load_model(model_path)\n",
    "\n",
    "image = test_single_picture(picture_dir=test_image_dir, model=efficientdet_lite)\n",
    "\n",
    "cv2.namedWindow(\"detect result\", flags=cv2.WINDOW_NORMAL)\n",
    "cv2.imshow(\"detect result\", image)\n",
    "cv2.waitKey(0)"
   ]
  },
  {
   "cell_type": "code",
   "execution_count": 5,
   "id": "5bc40eae",
   "metadata": {},
   "outputs": [
    {
     "name": "stdout",
     "output_type": "stream",
     "text": [
      "Mon Oct 25 19:24:28 2021       \r\n",
      "+-----------------------------------------------------------------------------+\r\n",
      "| NVIDIA-SMI 470.57.02    Driver Version: 470.57.02    CUDA Version: 11.4     |\r\n",
      "|-------------------------------+----------------------+----------------------+\r\n",
      "| GPU  Name        Persistence-M| Bus-Id        Disp.A | Volatile Uncorr. ECC |\r\n",
      "| Fan  Temp  Perf  Pwr:Usage/Cap|         Memory-Usage | GPU-Util  Compute M. |\r\n",
      "|                               |                      |               MIG M. |\r\n",
      "|===============================+======================+======================|\r\n",
      "|   0  NVIDIA TITAN RTX    Off  | 00000000:3B:00.0 Off |                  N/A |\r\n",
      "| 41%   38C    P2    63W / 280W |  24217MiB / 24220MiB |      0%      Default |\r\n",
      "|                               |                      |                  N/A |\r\n",
      "+-------------------------------+----------------------+----------------------+\r\n",
      "                                                                               \r\n",
      "+-----------------------------------------------------------------------------+\r\n",
      "| Processes:                                                                  |\r\n",
      "|  GPU   GI   CI        PID   Type   Process name                  GPU Memory |\r\n",
      "|        ID   ID                                                   Usage      |\r\n",
      "|=============================================================================|\r\n",
      "|    0   N/A  N/A     38002      C   .../efficient_det/bin/python    23731MiB |\r\n",
      "|    0   N/A  N/A     49839      C   .../efficient_det/bin/python      483MiB |\r\n",
      "+-----------------------------------------------------------------------------+\r\n"
     ]
    }
   ],
   "source": [
    "!nvidia-smi"
   ]
  }
 ],
 "metadata": {
  "kernelspec": {
   "display_name": "Python 3 (ipykernel)",
   "language": "python",
   "name": "python3"
  },
  "language_info": {
   "codemirror_mode": {
    "name": "ipython",
    "version": 3
   },
   "file_extension": ".py",
   "mimetype": "text/x-python",
   "name": "python",
   "nbconvert_exporter": "python",
   "pygments_lexer": "ipython3",
   "version": "3.7.0"
  }
 },
 "nbformat": 4,
 "nbformat_minor": 5
}
